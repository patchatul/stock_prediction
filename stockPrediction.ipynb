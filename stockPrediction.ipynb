{
 "cells": [
  {
   "cell_type": "code",
   "execution_count": 5,
   "id": "d6ca7fac-cd48-43da-aa9f-4cb2b3709b60",
   "metadata": {},
   "outputs": [],
   "source": [
    "import numpy as np #array\n",
    "import pandas as pd #data set\n",
    "import yfinance as yf #api table\n",
    "import matplotlib.pyplot as plt #graph visualization\n",
    "\n",
    "import torch\n",
    "import torch.nn as nn #build\n",
    "import torch.optim as optim #train\n",
    "\n",
    "from sklearn.preprocessing import StandardScaler #scale\n",
    "from sklearn.metrics import root_mean_squared_error #evaluate"
   ]
  },
  {
   "cell_type": "code",
   "execution_count": 6,
   "id": "301f850a-2107-442e-8bf0-54a7c7f80fee",
   "metadata": {},
   "outputs": [],
   "source": [
    "device = torch.device('cuda' if torch.cuda.is_available() else 'cpu')"
   ]
  },
  {
   "cell_type": "code",
   "execution_count": 24,
   "id": "fb197843-8b1f-48ab-b7f0-8cab2d88a7a7",
   "metadata": {},
   "outputs": [
    {
     "name": "stderr",
     "output_type": "stream",
     "text": [
      "C:\\Users\\ptul0\\AppData\\Local\\Temp\\ipykernel_26260\\3435310976.py:2: FutureWarning: YF.download() has changed argument auto_adjust default to True\n",
      "  df = yf.download(ticker, '2024-08-01')\n",
      "[*********************100%***********************]  1 of 1 completed\n"
     ]
    }
   ],
   "source": [
    "ticker = 'VOO'\n",
    "df = yf.download(ticker, '2024-08-01')"
   ]
  },
  {
   "cell_type": "code",
   "execution_count": 25,
   "id": "c252a966-6984-4abe-bf27-53a8e232e48c",
   "metadata": {},
   "outputs": [
    {
     "data": {
      "text/html": [
       "<div>\n",
       "<style scoped>\n",
       "    .dataframe tbody tr th:only-of-type {\n",
       "        vertical-align: middle;\n",
       "    }\n",
       "\n",
       "    .dataframe tbody tr th {\n",
       "        vertical-align: top;\n",
       "    }\n",
       "\n",
       "    .dataframe thead tr th {\n",
       "        text-align: left;\n",
       "    }\n",
       "\n",
       "    .dataframe thead tr:last-of-type th {\n",
       "        text-align: right;\n",
       "    }\n",
       "</style>\n",
       "<table border=\"1\" class=\"dataframe\">\n",
       "  <thead>\n",
       "    <tr>\n",
       "      <th>Price</th>\n",
       "      <th>Close</th>\n",
       "      <th>High</th>\n",
       "      <th>Low</th>\n",
       "      <th>Open</th>\n",
       "      <th>Volume</th>\n",
       "    </tr>\n",
       "    <tr>\n",
       "      <th>Ticker</th>\n",
       "      <th>VOO</th>\n",
       "      <th>VOO</th>\n",
       "      <th>VOO</th>\n",
       "      <th>VOO</th>\n",
       "      <th>VOO</th>\n",
       "    </tr>\n",
       "    <tr>\n",
       "      <th>Date</th>\n",
       "      <th></th>\n",
       "      <th></th>\n",
       "      <th></th>\n",
       "      <th></th>\n",
       "      <th></th>\n",
       "    </tr>\n",
       "  </thead>\n",
       "  <tbody>\n",
       "    <tr>\n",
       "      <th>2024-08-01</th>\n",
       "      <td>492.658478</td>\n",
       "      <td>503.389687</td>\n",
       "      <td>489.420357</td>\n",
       "      <td>501.355991</td>\n",
       "      <td>6939200</td>\n",
       "    </tr>\n",
       "    <tr>\n",
       "      <th>2024-08-02</th>\n",
       "      <td>483.654907</td>\n",
       "      <td>487.218801</td>\n",
       "      <td>479.597367</td>\n",
       "      <td>486.122988</td>\n",
       "      <td>8561200</td>\n",
       "    </tr>\n",
       "    <tr>\n",
       "      <th>2024-08-05</th>\n",
       "      <td>469.132721</td>\n",
       "      <td>475.036350</td>\n",
       "      <td>462.903289</td>\n",
       "      <td>464.166945</td>\n",
       "      <td>15244300</td>\n",
       "    </tr>\n",
       "    <tr>\n",
       "      <th>2024-08-06</th>\n",
       "      <td>473.812225</td>\n",
       "      <td>480.643855</td>\n",
       "      <td>469.863297</td>\n",
       "      <td>471.294795</td>\n",
       "      <td>8255000</td>\n",
       "    </tr>\n",
       "    <tr>\n",
       "      <th>2024-08-07</th>\n",
       "      <td>470.524719</td>\n",
       "      <td>482.312274</td>\n",
       "      <td>470.031103</td>\n",
       "      <td>479.498686</td>\n",
       "      <td>5976400</td>\n",
       "    </tr>\n",
       "    <tr>\n",
       "      <th>...</th>\n",
       "      <td>...</td>\n",
       "      <td>...</td>\n",
       "      <td>...</td>\n",
       "      <td>...</td>\n",
       "      <td>...</td>\n",
       "    </tr>\n",
       "    <tr>\n",
       "      <th>2025-08-05</th>\n",
       "      <td>577.349976</td>\n",
       "      <td>581.500000</td>\n",
       "      <td>576.400024</td>\n",
       "      <td>580.789978</td>\n",
       "      <td>4647400</td>\n",
       "    </tr>\n",
       "    <tr>\n",
       "      <th>2025-08-06</th>\n",
       "      <td>581.640015</td>\n",
       "      <td>582.270020</td>\n",
       "      <td>577.409973</td>\n",
       "      <td>578.250000</td>\n",
       "      <td>4545000</td>\n",
       "    </tr>\n",
       "    <tr>\n",
       "      <th>2025-08-07</th>\n",
       "      <td>581.289978</td>\n",
       "      <td>585.520020</td>\n",
       "      <td>578.309998</td>\n",
       "      <td>584.869995</td>\n",
       "      <td>4594300</td>\n",
       "    </tr>\n",
       "    <tr>\n",
       "      <th>2025-08-08</th>\n",
       "      <td>585.739990</td>\n",
       "      <td>586.169983</td>\n",
       "      <td>582.599976</td>\n",
       "      <td>582.929993</td>\n",
       "      <td>4331400</td>\n",
       "    </tr>\n",
       "    <tr>\n",
       "      <th>2025-08-11</th>\n",
       "      <td>584.539978</td>\n",
       "      <td>587.359985</td>\n",
       "      <td>583.440002</td>\n",
       "      <td>586.030029</td>\n",
       "      <td>5056023</td>\n",
       "    </tr>\n",
       "  </tbody>\n",
       "</table>\n",
       "<p>257 rows × 5 columns</p>\n",
       "</div>"
      ],
      "text/plain": [
       "Price            Close        High         Low        Open    Volume\n",
       "Ticker             VOO         VOO         VOO         VOO       VOO\n",
       "Date                                                                \n",
       "2024-08-01  492.658478  503.389687  489.420357  501.355991   6939200\n",
       "2024-08-02  483.654907  487.218801  479.597367  486.122988   8561200\n",
       "2024-08-05  469.132721  475.036350  462.903289  464.166945  15244300\n",
       "2024-08-06  473.812225  480.643855  469.863297  471.294795   8255000\n",
       "2024-08-07  470.524719  482.312274  470.031103  479.498686   5976400\n",
       "...                ...         ...         ...         ...       ...\n",
       "2025-08-05  577.349976  581.500000  576.400024  580.789978   4647400\n",
       "2025-08-06  581.640015  582.270020  577.409973  578.250000   4545000\n",
       "2025-08-07  581.289978  585.520020  578.309998  584.869995   4594300\n",
       "2025-08-08  585.739990  586.169983  582.599976  582.929993   4331400\n",
       "2025-08-11  584.539978  587.359985  583.440002  586.030029   5056023\n",
       "\n",
       "[257 rows x 5 columns]"
      ]
     },
     "execution_count": 25,
     "metadata": {},
     "output_type": "execute_result"
    }
   ],
   "source": [
    "df"
   ]
  },
  {
   "cell_type": "code",
   "execution_count": 26,
   "id": "27bacc24",
   "metadata": {},
   "outputs": [
    {
     "data": {
      "text/plain": [
       "<Axes: xlabel='Date'>"
      ]
     },
     "execution_count": 26,
     "metadata": {},
     "output_type": "execute_result"
    },
    {
     "data": {
      "image/png": "[encoded data removed]",
      "text/plain": [
       "<Figure size 1000x800 with 1 Axes>"
      ]
     },
     "metadata": {},
     "output_type": "display_data"
    }
   ],
   "source": [
    "df.Close.plot(figsize=(10,8))"
   ]
  },
  {
   "cell_type": "code",
   "execution_count": 15,
   "id": "e0e1ebca",
   "metadata": {},
   "outputs": [],
   "source": [
    "scaler = StandardScaler()\n",
    "df['Close'] = scaler.fit_transform(df['Close'])"
   ]
  },
  {
   "cell_type": "code",
   "execution_count": null,
   "id": "4cb752cc",
   "metadata": {},
   "outputs": [
    {
     "data": {
      "text/html": [
       "<div>\n",
       "<style scoped>\n",
       "    .dataframe tbody tr th:only-of-type {\n",
       "        vertical-align: middle;\n",
       "    }\n",
       "\n",
       "    .dataframe tbody tr th {\n",
       "        vertical-align: top;\n",
       "    }\n",
       "\n",
       "    .dataframe thead th {\n",
       "        text-align: right;\n",
       "    }\n",
       "</style>\n",
       "<table border=\"1\" class=\"dataframe\">\n",
       "  <thead>\n",
       "    <tr style=\"text-align: right;\">\n",
       "      <th>Ticker</th>\n",
       "      <th>VOO</th>\n",
       "    </tr>\n",
       "    <tr>\n",
       "      <th>Date</th>\n",
       "      <th></th>\n",
       "    </tr>\n",
       "  </thead>\n",
       "  <tbody>\n",
       "    <tr>\n",
       "      <th>2024-08-01</th>\n",
       "      <td>-1.488221</td>\n",
       "    </tr>\n",
       "    <tr>\n",
       "      <th>2024-08-02</th>\n",
       "      <td>-1.822712</td>\n",
       "    </tr>\n",
       "    <tr>\n",
       "      <th>2024-08-05</th>\n",
       "      <td>-2.362223</td>\n",
       "    </tr>\n",
       "    <tr>\n",
       "      <th>2024-08-06</th>\n",
       "      <td>-2.188375</td>\n",
       "    </tr>\n",
       "    <tr>\n",
       "      <th>2024-08-07</th>\n",
       "      <td>-2.310510</td>\n",
       "    </tr>\n",
       "    <tr>\n",
       "      <th>...</th>\n",
       "      <td>...</td>\n",
       "    </tr>\n",
       "    <tr>\n",
       "      <th>2025-08-05</th>\n",
       "      <td>1.658139</td>\n",
       "    </tr>\n",
       "    <tr>\n",
       "      <th>2025-08-06</th>\n",
       "      <td>1.817518</td>\n",
       "    </tr>\n",
       "    <tr>\n",
       "      <th>2025-08-07</th>\n",
       "      <td>1.804514</td>\n",
       "    </tr>\n",
       "    <tr>\n",
       "      <th>2025-08-08</th>\n",
       "      <td>1.969836</td>\n",
       "    </tr>\n",
       "    <tr>\n",
       "      <th>2025-08-11</th>\n",
       "      <td>1.925254</td>\n",
       "    </tr>\n",
       "  </tbody>\n",
       "</table>\n",
       "<p>257 rows × 1 columns</p>\n",
       "</div>"
      ],
      "text/plain": [
       "Ticker           VOO\n",
       "Date                \n",
       "2024-08-01 -1.488221\n",
       "2024-08-02 -1.822712\n",
       "2024-08-05 -2.362223\n",
       "2024-08-06 -2.188375\n",
       "2024-08-07 -2.310510\n",
       "...              ...\n",
       "2025-08-05  1.658139\n",
       "2025-08-06  1.817518\n",
       "2025-08-07  1.804514\n",
       "2025-08-08  1.969836\n",
       "2025-08-11  1.925254\n",
       "\n",
       "[257 rows x 1 columns]"
      ]
     },
     "execution_count": 16,
     "metadata": {},
     "output_type": "execute_result"
    }
   ],
   "source": [
    "df.close #standard deviation of 1, mean of 0"
   ]
  }
 ],
 "metadata": {
  "kernelspec": {
   "display_name": ".venv",
   "language": "python",
   "name": "python3"
  },
  "language_info": {
   "codemirror_mode": {
    "name": "ipython",
    "version": 3
   },
   "file_extension": ".py",
   "mimetype": "text/x-python",
   "name": "python",
   "nbconvert_exporter": "python",
   "pygments_lexer": "ipython3",
   "version": "3.11.9"
  }
 },
 "nbformat": 4,
 "nbformat_minor": 5
}
